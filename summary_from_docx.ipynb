{
 "cells": [
  {
   "cell_type": "code",
   "execution_count": 1,
   "metadata": {},
   "outputs": [
    {
     "data": {
      "text/plain": [
       "'https://cw-language-summary-meetings.cognitiveservices.azure.com/'"
      ]
     },
     "execution_count": 1,
     "metadata": {},
     "output_type": "execute_result"
    }
   ],
   "source": [
    "from dotenv import load_dotenv\n",
    "import os\n",
    "\n",
    "load_dotenv()\n",
    "\n",
    "\n",
    "LANGUAGE_KEY = os.getenv('LANGUAGE_KEY')\n",
    "LANGUAGE_ENDPOINT = os.getenv('LANGUAGE_ENDPOINT')\n",
    "LANGUAGE_ENDPOINT"
   ]
  },
  {
   "cell_type": "code",
   "execution_count": 4,
   "metadata": {},
   "outputs": [
    {
     "name": "stdout",
     "output_type": "stream",
     "text": [
      "\u001b[0m\u001b[01;32m'2024_10_30_Appel avec Nicolas CASTET-20241030_103642-Transcription de la réunion.docx'\u001b[0m\u001b[K*\n",
      "\u001b[01;32m'2024_10_31_Appel avec Remi Cazelles.docx'\u001b[0m*\n",
      "\u001b[01;32m'2024_11_19_Appel avec Wenbo Li-20241119_140009-Transcription de la réunion.docx'\u001b[0m\u001b[K*\n",
      "\u001b[01;32m\"2024_11_22_Réunion d'équipe.docx\"\u001b[0m*\n",
      "\u001b[01;32m'Appel avec Nicolas CASTET-20241030_103642-Transcription de la réunion-txt.txt'\u001b[0m*\n",
      "\u001b[01;32m'Appel avec Remi Cazelles-brut.txt'\u001b[0m*\n",
      "\u001b[01;34m'Résumés autoimatiques'\u001b[0m/\n",
      " \u001b[01;32mdocument.docx\u001b[0m*\n",
      " \u001b[01;34mraw_traité\u001b[0m/\n",
      "\u001b[01;32m'~$pel avec Nicolas CASTET-20241030_103642-Transcription de la réunion.docx'\u001b[0m*\n"
     ]
    }
   ],
   "source": [
    "ls data"
   ]
  },
  {
   "cell_type": "code",
   "execution_count": 6,
   "metadata": {},
   "outputs": [
    {
     "ename": "PackageNotFoundError",
     "evalue": "Package not found at 'data/Appel avec Remi Cazelles-brut.txt'",
     "output_type": "error",
     "traceback": [
      "\u001b[0;31m---------------------------------------------------------------------------\u001b[0m",
      "\u001b[0;31mPackageNotFoundError\u001b[0m                      Traceback (most recent call last)",
      "Cell \u001b[0;32mIn[6], line 6\u001b[0m\n\u001b[1;32m      1\u001b[0m \u001b[38;5;28;01mimport\u001b[39;00m \u001b[38;5;21;01mdocx\u001b[39;00m \n\u001b[1;32m      3\u001b[0m \u001b[38;5;66;03m# path = \"data/Appel avec Remi Cazelles.docx\"\u001b[39;00m\n\u001b[1;32m      4\u001b[0m \u001b[38;5;66;03m# path = \"data/Appel avec Wenbo Li-20241119_140009-Transcription de la réunion.docx\"\u001b[39;00m\n\u001b[1;32m      5\u001b[0m \u001b[38;5;66;03m# path = \"data/2024_11_22_Point avancement Digitalisation.docx\"\u001b[39;00m\n\u001b[0;32m----> 6\u001b[0m doc \u001b[38;5;241m=\u001b[39m \u001b[43mdocx\u001b[49m\u001b[38;5;241;43m.\u001b[39;49m\u001b[43mDocument\u001b[49m\u001b[43m(\u001b[49m\u001b[38;5;124;43m'\u001b[39;49m\u001b[38;5;124;43mdata/Appel avec Remi Cazelles-brut.txt\u001b[39;49m\u001b[38;5;124;43m'\u001b[39;49m\u001b[43m)\u001b[49m\n",
      "File \u001b[0;32m/home/RemiCazelles/anaconda3/envs/CW_Azure-services/lib/python3.12/site-packages/docx/api.py:27\u001b[0m, in \u001b[0;36mDocument\u001b[0;34m(docx)\u001b[0m\n\u001b[1;32m     20\u001b[0m \u001b[38;5;250m\u001b[39m\u001b[38;5;124;03m\"\"\"Return a |Document| object loaded from `docx`, where `docx` can be either a path\u001b[39;00m\n\u001b[1;32m     21\u001b[0m \u001b[38;5;124;03mto a ``.docx`` file (a string) or a file-like object.\u001b[39;00m\n\u001b[1;32m     22\u001b[0m \n\u001b[1;32m     23\u001b[0m \u001b[38;5;124;03mIf `docx` is missing or ``None``, the built-in default document \"template\" is\u001b[39;00m\n\u001b[1;32m     24\u001b[0m \u001b[38;5;124;03mloaded.\u001b[39;00m\n\u001b[1;32m     25\u001b[0m \u001b[38;5;124;03m\"\"\"\u001b[39;00m\n\u001b[1;32m     26\u001b[0m docx \u001b[38;5;241m=\u001b[39m _default_docx_path() \u001b[38;5;28;01mif\u001b[39;00m docx \u001b[38;5;129;01mis\u001b[39;00m \u001b[38;5;28;01mNone\u001b[39;00m \u001b[38;5;28;01melse\u001b[39;00m docx\n\u001b[0;32m---> 27\u001b[0m document_part \u001b[38;5;241m=\u001b[39m cast(\u001b[38;5;124m\"\u001b[39m\u001b[38;5;124mDocumentPart\u001b[39m\u001b[38;5;124m\"\u001b[39m, \u001b[43mPackage\u001b[49m\u001b[38;5;241;43m.\u001b[39;49m\u001b[43mopen\u001b[49m\u001b[43m(\u001b[49m\u001b[43mdocx\u001b[49m\u001b[43m)\u001b[49m\u001b[38;5;241m.\u001b[39mmain_document_part)\n\u001b[1;32m     28\u001b[0m \u001b[38;5;28;01mif\u001b[39;00m document_part\u001b[38;5;241m.\u001b[39mcontent_type \u001b[38;5;241m!=\u001b[39m CT\u001b[38;5;241m.\u001b[39mWML_DOCUMENT_MAIN:\n\u001b[1;32m     29\u001b[0m     tmpl \u001b[38;5;241m=\u001b[39m \u001b[38;5;124m\"\u001b[39m\u001b[38;5;124mfile \u001b[39m\u001b[38;5;124m'\u001b[39m\u001b[38;5;132;01m%s\u001b[39;00m\u001b[38;5;124m'\u001b[39m\u001b[38;5;124m is not a Word file, content type is \u001b[39m\u001b[38;5;124m'\u001b[39m\u001b[38;5;132;01m%s\u001b[39;00m\u001b[38;5;124m'\u001b[39m\u001b[38;5;124m\"\u001b[39m\n",
      "File \u001b[0;32m/home/RemiCazelles/anaconda3/envs/CW_Azure-services/lib/python3.12/site-packages/docx/opc/package.py:127\u001b[0m, in \u001b[0;36mOpcPackage.open\u001b[0;34m(cls, pkg_file)\u001b[0m\n\u001b[1;32m    124\u001b[0m \u001b[38;5;129m@classmethod\u001b[39m\n\u001b[1;32m    125\u001b[0m \u001b[38;5;28;01mdef\u001b[39;00m \u001b[38;5;21mopen\u001b[39m(\u001b[38;5;28mcls\u001b[39m, pkg_file: \u001b[38;5;28mstr\u001b[39m \u001b[38;5;241m|\u001b[39m IO[\u001b[38;5;28mbytes\u001b[39m]) \u001b[38;5;241m-\u001b[39m\u001b[38;5;241m>\u001b[39m OpcPackage:\n\u001b[1;32m    126\u001b[0m \u001b[38;5;250m    \u001b[39m\u001b[38;5;124;03m\"\"\"Return an |OpcPackage| instance loaded with the contents of `pkg_file`.\"\"\"\u001b[39;00m\n\u001b[0;32m--> 127\u001b[0m     pkg_reader \u001b[38;5;241m=\u001b[39m \u001b[43mPackageReader\u001b[49m\u001b[38;5;241;43m.\u001b[39;49m\u001b[43mfrom_file\u001b[49m\u001b[43m(\u001b[49m\u001b[43mpkg_file\u001b[49m\u001b[43m)\u001b[49m\n\u001b[1;32m    128\u001b[0m     package \u001b[38;5;241m=\u001b[39m \u001b[38;5;28mcls\u001b[39m()\n\u001b[1;32m    129\u001b[0m     Unmarshaller\u001b[38;5;241m.\u001b[39munmarshal(pkg_reader, package, PartFactory)\n",
      "File \u001b[0;32m/home/RemiCazelles/anaconda3/envs/CW_Azure-services/lib/python3.12/site-packages/docx/opc/pkgreader.py:22\u001b[0m, in \u001b[0;36mPackageReader.from_file\u001b[0;34m(pkg_file)\u001b[0m\n\u001b[1;32m     19\u001b[0m \u001b[38;5;129m@staticmethod\u001b[39m\n\u001b[1;32m     20\u001b[0m \u001b[38;5;28;01mdef\u001b[39;00m \u001b[38;5;21mfrom_file\u001b[39m(pkg_file):\n\u001b[1;32m     21\u001b[0m \u001b[38;5;250m    \u001b[39m\u001b[38;5;124;03m\"\"\"Return a |PackageReader| instance loaded with contents of `pkg_file`.\"\"\"\u001b[39;00m\n\u001b[0;32m---> 22\u001b[0m     phys_reader \u001b[38;5;241m=\u001b[39m \u001b[43mPhysPkgReader\u001b[49m\u001b[43m(\u001b[49m\u001b[43mpkg_file\u001b[49m\u001b[43m)\u001b[49m\n\u001b[1;32m     23\u001b[0m     content_types \u001b[38;5;241m=\u001b[39m _ContentTypeMap\u001b[38;5;241m.\u001b[39mfrom_xml(phys_reader\u001b[38;5;241m.\u001b[39mcontent_types_xml)\n\u001b[1;32m     24\u001b[0m     pkg_srels \u001b[38;5;241m=\u001b[39m PackageReader\u001b[38;5;241m.\u001b[39m_srels_for(phys_reader, PACKAGE_URI)\n",
      "File \u001b[0;32m/home/RemiCazelles/anaconda3/envs/CW_Azure-services/lib/python3.12/site-packages/docx/opc/phys_pkg.py:21\u001b[0m, in \u001b[0;36mPhysPkgReader.__new__\u001b[0;34m(cls, pkg_file)\u001b[0m\n\u001b[1;32m     19\u001b[0m         reader_cls \u001b[38;5;241m=\u001b[39m _ZipPkgReader\n\u001b[1;32m     20\u001b[0m     \u001b[38;5;28;01melse\u001b[39;00m:\n\u001b[0;32m---> 21\u001b[0m         \u001b[38;5;28;01mraise\u001b[39;00m PackageNotFoundError(\u001b[38;5;124m\"\u001b[39m\u001b[38;5;124mPackage not found at \u001b[39m\u001b[38;5;124m'\u001b[39m\u001b[38;5;132;01m%s\u001b[39;00m\u001b[38;5;124m'\u001b[39m\u001b[38;5;124m\"\u001b[39m \u001b[38;5;241m%\u001b[39m pkg_file)\n\u001b[1;32m     22\u001b[0m \u001b[38;5;28;01melse\u001b[39;00m:  \u001b[38;5;66;03m# assume it's a stream and pass it to Zip reader to sort out\u001b[39;00m\n\u001b[1;32m     23\u001b[0m     reader_cls \u001b[38;5;241m=\u001b[39m _ZipPkgReader\n",
      "\u001b[0;31mPackageNotFoundError\u001b[0m: Package not found at 'data/Appel avec Remi Cazelles-brut.txt'"
     ]
    }
   ],
   "source": [
    "import docx \n",
    "\n",
    "# path = \"data/Appel avec Remi Cazelles.docx\"\n",
    "# path = \"data/Appel avec Wenbo Li-20241119_140009-Transcription de la réunion.docx\"\n",
    "# path = \"data/2024_11_22_Point avancement Digitalisation.docx\"\n",
    "doc = docx.Document('data/Appel avec Remi Cazelles-brut.txt')"
   ]
  },
  {
   "cell_type": "code",
   "execution_count": 3,
   "metadata": {},
   "outputs": [
    {
     "name": "stdout",
     "output_type": "stream",
     "text": [
      "\n",
      "Elodie Jaubert   0:03\n",
      "Vous voyez toujours l'écran ?\n",
      "\n",
      "Alban Chesneau   0:04\n",
      "Oui, je je me vois 2 fois, Ah non, ça y est, je me vois plus qu'une.\n",
      "\n",
      "Nicolas CASTET   0:05\n",
      "Ouais.\n",
      "\n",
      "Elodie Jaubert   0:10\n",
      "Alors le sujet, aujourd'hui, c'est la digitalisation accordé.\n",
      "Waters et c'est un sujet qui va de pair avec la cybersécurité parce que en digitalisant des infrastructures, on s'expose aussi à des nouveaux risques, donc on va vous d'abord vous montrer un une vue d'ensemble des thèmes de digitalisation.\n",
      "Des exemples de projets et de PI pour pouvoir suivre l'évolution de la digitalisation et à la fin, on fera un point sur la cybersécurité.\n",
      "Bah parce que on a fait un rendez-vous avec NOVENCI qui nous a apporté des précisions sur comment sécuriser les infrastructures à carburateurs.\n",
      "On y va.\n",
      "Ça passe pas.\n",
      "Voilà.\n",
      "Alors, l'état des lieux ?\n",
      "Ah là dite la création.\n",
      "Vous voyez dans le tableau de gauche, il y a 123456789 il y a 10 piliers qu'on peut extraire de différents documents.\n",
      "10 piliers qu'on peut extraire de différents documents, voilà et pour chacun de ces piliers, en fait, ce sont des objectifs généraux vraiment différents.\n",
      "Euh, pour pouvoir comment dire faire le suivi de la digitalisation de Carbon Waters, on a des outils à disponibilité, donc là vous voyez que ces outils, c'est un questionnaire en fait qui nous permet de créer un radar de digitalisation.\n",
      "Et vous voyez ici dans le radar que Carbon Waters en bleu, non, nous, on est en rouge et la moyenne des gens qui ont fait ce test de digitalisation proposé par 1DIH de la région Occitanie, on est quand même vraiment pas mal.\n",
      "Maintenant pour revenir pardon au tableau de gauche, il y a 2 couleurs différentes.\n",
      "Je sais pas si vous voulez, si vous voulez voyez bien et en fait on a on en bleu les points que j'ai cru comprendre qui était la priorité à Carbon Waters, donc qui est bien c'est le planning de la stratégie digitale.\n",
      "\n",
      "Alban Chesneau   2:00\n",
      "Ou un petit peu, ouais.\n",
      "\n",
      "Elodie Jaubert   2:10\n",
      "C'est l'utilisation des données pour la production et pour le Ben le le Business quoi ?\n",
      "Relation client ?\n",
      "C'est les infrastructures, parce que en fait, avec oui.\n",
      "\n",
      "Alban Chesneau   2:19\n",
      "Alors, est-ce que est-ce qu'on peut les repasser parce que c'est des termes pour moi, qui sont un petit peu nouveaux et je veux bien les comprendre, parce qu'on aura peut-être à la réutiliser plus tard et ça évitera que je fasse des mauvaises compréhensions.\n",
      "Donc la stratégie digitale ou au K ça c'est le la, la vision macro, le chapeau de tout ça j'imagine la partie.\n",
      "\n",
      "Elodie Jaubert   2:37\n",
      "Voilà.\n"
     ]
    }
   ],
   "source": [
    "for i in range(2,10):\n",
    "    print(doc.paragraphs[i].text)"
   ]
  },
  {
   "cell_type": "markdown",
   "metadata": {},
   "source": [
    "Predefined Roles:\n",
    "\n",
    "\"Customer\":\n",
    "\"Agent\":"
   ]
  },
  {
   "cell_type": "markdown",
   "metadata": {},
   "source": [
    "# define people"
   ]
  },
  {
   "cell_type": "markdown",
   "metadata": {},
   "source": []
  },
  {
   "cell_type": "code",
   "execution_count": 19,
   "metadata": {},
   "outputs": [],
   "source": [
    "\n",
    "\n",
    "CW_people = (\"Elodie Jaubert\",\"Remi Cazelles\",\"Alban Chesneau\",\"Nicolas CASTET\")\n",
    "CW_company = dict({\"Elodie Jaubert\":{'id':1,\n",
    "                                    'role':'Agent'},\n",
    "                  \"Remi Cazelles\":{'id':2,\n",
    "                                   'role':'Customer'},\n",
    "                  \"Wenbo Li\":{'id':3,\n",
    "                                   'role':'Assistant'},\n",
    "                  \"Alban Chesneau\":{'id':4,\n",
    "                                    'role':'Customer'},\n",
    "                  \"Nicolas CASTET\":{'id':5,\n",
    "                                    'role':'Customer'}})\n"
   ]
  },
  {
   "cell_type": "code",
   "execution_count": 5,
   "metadata": {},
   "outputs": [
    {
     "data": {
      "text/plain": [
       "'\\nAlban Chesneau   2:59\\nOK.'"
      ]
     },
     "execution_count": 5,
     "metadata": {},
     "output_type": "execute_result"
    }
   ],
   "source": [
    "doc.paragraphs[12].text"
   ]
  },
  {
   "cell_type": "code",
   "execution_count": null,
   "metadata": {},
   "outputs": [],
   "source": [
    "\n",
    "# def assign_role_and_id(line):\n",
    "#     nom = \" \".join(line.split(\" \")[:2])\n",
    "#     participant_id = CW_company[nom][\"id\"]\n",
    "#     role = CW_company[nom][\"role\"]\n",
    "#     return participant_id, role\n",
    "\n",
    "\n",
    "\n",
    "# formatted_paragraphs=list()\n",
    "\n",
    "# for i, paragraph in enumerate(doc.paragraphs):\n",
    "#     # Skip first empty paragraphs\n",
    "#     if i >1:\n",
    "    \n",
    "#         if not len(paragraph.text.split(\"\\n\")) > 2:\n",
    "#             continue\n",
    "        \n",
    "#         # print(paragraph.text)\n",
    "        \n",
    "#         text=list()\n",
    "#         # Format each paragraph as a dictionary\n",
    "#         for line in paragraph.text.split(\"\\n\"):\n",
    "            \n",
    "#             if line.startswith(CW_people):  \n",
    "#                 participant_id, role = assign_role_and_id(line)\n",
    "                \n",
    "#             elif line.startswith(\"Remi Cazelles\"):    ### quel nom pour invité ou .. ?\n",
    "#                 participant_id = 2\n",
    "#                 role = \"Cyber team\"\n",
    "#             else:\n",
    "#                 if line:\n",
    "#                     text.append(line.replace(\"\\xa0\",\"\"))\n",
    "                \n",
    "#         formatted_paragraph = {\n",
    "#             \"text\": \". \".join(text),\n",
    "#             \"id\": str(i),  # Assign a unique ID based on the order\n",
    "#             \"role\": role,      # Assign a role (adjust based on your document content)\n",
    "#             \"participantId\": participant_id\n",
    "#         }\n",
    "        \n",
    "#         # Append formatted paragraph to list\n",
    "#         formatted_paragraphs.append(formatted_paragraph)"
   ]
  },
  {
   "cell_type": "markdown",
   "metadata": {},
   "source": [
    "https://learn.microsoft.com/en-us/azure/ai-services/language-service/summarization/quickstart?tabs=conversation-summarization%2Clinux&pivots=programming-language-python"
   ]
  },
  {
   "cell_type": "code",
   "execution_count": null,
   "metadata": {},
   "outputs": [],
   "source": [
    "formatted_paragraphs[11:17]"
   ]
  },
  {
   "cell_type": "markdown",
   "metadata": {},
   "source": [
    "# format 2"
   ]
  },
  {
   "cell_type": "code",
   "execution_count": null,
   "metadata": {},
   "outputs": [],
   "source": [
    "for i in range(4):\n",
    "    print()\n",
    "    print(doc.paragraphs[i].text)"
   ]
  },
  {
   "cell_type": "code",
   "execution_count": 20,
   "metadata": {},
   "outputs": [
    {
     "name": "stdout",
     "output_type": "stream",
     "text": [
      "64258 characters\n",
      "16064.5 tokens\n"
     ]
    }
   ],
   "source": [
    "\n",
    "def assign_role_and_id(line):\n",
    "    nom = \" \".join(line.split(\" \")[:2])\n",
    "    participant_id = CW_company[nom][\"id\"]\n",
    "    role = CW_company[nom][\"role\"]\n",
    "    return participant_id, role\n",
    "\n",
    "formatted_paragraphs=list()\n",
    "characters_count=0\n",
    "for i, paragraph in enumerate(doc.paragraphs):\n",
    "    text=list()\n",
    "    if i <= 2:\n",
    "        continue\n",
    "    # Format each paragraph as a dictionary\n",
    "    for line in paragraph.text.split(\"\\n\"):\n",
    "        \n",
    "        if line == \"\":\n",
    "            continue\n",
    "        \n",
    "        elif line.startswith(CW_people):  \n",
    "            participant_id, role = assign_role_and_id(line)\n",
    "            \n",
    "\n",
    "        else:\n",
    "            if line:\n",
    "                text.append(line.replace(\"\\xa0\",\"\"))\n",
    "                \n",
    "                characters_count += len(line.replace(\"\\xa0\",\"\"))\n",
    "            \n",
    "    formatted_paragraph = {\n",
    "        \"text\": \". \".join(text),\n",
    "        \"id\": str(i),  # Assign a unique ID based on the order\n",
    "        \"role\": role,      # Assign a role (adjust based on your document content)\n",
    "        \"participantId\": participant_id\n",
    "    }\n",
    "    \n",
    "    # Append formatted paragraph to list\n",
    "    formatted_paragraphs.append(formatted_paragraph)\n",
    "    \n",
    "print(characters_count,\"characters\")\n",
    "print(characters_count/4,\"tokens\")"
   ]
  },
  {
   "cell_type": "markdown",
   "metadata": {},
   "source": [
    "# make chunks of conversation"
   ]
  },
  {
   "cell_type": "code",
   "execution_count": 21,
   "metadata": {},
   "outputs": [
    {
     "name": "stdout",
     "output_type": "stream",
     "text": [
      "14\n"
     ]
    }
   ],
   "source": [
    "import unicodedata\n",
    "\n",
    "def get_text_length(text):\n",
    "    \"\"\"Calculate the length of a string in Unicode text elements.\"\"\"\n",
    "    return sum(1 for _ in unicodedata.normalize('NFC', text))\n",
    "\n",
    "def chunk_text_by_length(conversation, max_length):\n",
    "    \"\"\"Split the conversation into chunks based on text length in Unicode elements.\"\"\"\n",
    "    chunks = []\n",
    "    current_chunk = []\n",
    "    current_length = 0\n",
    "\n",
    "    for item in conversation:\n",
    "        text_length = get_text_length(item['text'])\n",
    "        if current_length + text_length <= max_length:\n",
    "            current_chunk.append(item)\n",
    "            current_length += text_length\n",
    "        else:\n",
    "            chunks.append(current_chunk)\n",
    "            current_chunk = [item]\n",
    "            current_length = text_length\n",
    "\n",
    "    if current_chunk:\n",
    "        chunks.append(current_chunk)\n",
    "    \n",
    "    return chunks\n",
    "\n",
    "chunks = chunk_text_by_length(formatted_paragraphs,max_length=5200)\n",
    "\n",
    "print(len(chunks))"
   ]
  },
  {
   "cell_type": "markdown",
   "metadata": {},
   "source": [
    "All other preconfigured features (synchronous)\t5,120 as measured by StringInfo.LengthInTextElements. If you need to submit larger documents, consider using the feature asynchronously.\n",
    "All other preconfigured features (asynchronous)\t125,000 characters across all submitted documents, as measured by StringInfo.LengthInTextElements (maximum of 25 documents)."
   ]
  },
  {
   "cell_type": "markdown",
   "metadata": {},
   "source": [
    "# function to read output"
   ]
  },
  {
   "cell_type": "code",
   "execution_count": 17,
   "metadata": {},
   "outputs": [],
   "source": [
    "def view_result(result):\n",
    "    task_results = result[\"tasks\"][\"items\"]\n",
    "    for task in task_results:\n",
    "        print(f\"\\n{task['taskName']} status: {task['status']}\")\n",
    "        task_result = task[\"results\"]\n",
    "        if task_result[\"errors\"]:\n",
    "            print(\"... errors occurred ...\")\n",
    "            for error in task_result[\"errors\"]:\n",
    "                print(error)\n",
    "        else:\n",
    "            conversation_result = task_result[\"conversations\"][0]\n",
    "            if conversation_result[\"warnings\"]:\n",
    "                print(\"... view warnings ...\")\n",
    "                for warning in conversation_result[\"warnings\"]:\n",
    "                    print(warning)\n",
    "            else:\n",
    "                summaries = conversation_result[\"summaries\"]\n",
    "                for summary in summaries:\n",
    "                    print(f\"{summary['aspect']}: {summary['text']}\")"
   ]
  },
  {
   "cell_type": "markdown",
   "metadata": {},
   "source": [
    "# appel API Azure"
   ]
  },
  {
   "cell_type": "code",
   "execution_count": null,
   "metadata": {},
   "outputs": [],
   "source": [
    "# from azure.core.credentials import AzureKeyCredential\n",
    "# from azure.ai.language.conversations import ConversationAnalysisClient\n",
    "\n",
    "\n",
    "\n",
    "# conversation_id = 'start_meeting'#path.split(\"/\")[1].split(\".\")[0]\n",
    "\n",
    "# client = ConversationAnalysisClient(LANGUAGE_ENDPOINT, AzureKeyCredential(LANGUAGE_KEY))\n",
    "# with client:\n",
    "#     poller = client.begin_conversation_analysis(\n",
    "#         task={\n",
    "#             \"displayName\": \"Analyze conversations from xxx\",\n",
    "#             \"analysisInput\": {\n",
    "#                 \"conversations\": [\n",
    "#                     {\n",
    "#                         \"conversationItems\": formatted_paragraphs[:200],              # LIMIT HERE THE CONVERSATION LENGHT TO LIMIT COSTS\n",
    "#                         \"modality\": \"text\",\n",
    "#                         \"id\": conversation_id,\n",
    "#                         \"language\": \"fr\",\n",
    "#                     },\n",
    "#                 ]\n",
    "#             },\n",
    "#             \"tasks\": [\n",
    "#                 {\n",
    "#                     \"taskName\": \"Issue task\",\n",
    "#                     \"kind\": \"ConversationalSummarizationTask\",\n",
    "#                     \"parameters\": {\"summaryAspects\": [\"issue\"]},\n",
    "#                 },\n",
    "#                 {\n",
    "#                     \"taskName\": \"Resolution task\",\n",
    "#                     \"kind\": \"ConversationalSummarizationTask\",\n",
    "#                     \"parameters\": {\"summaryAspects\": [\"resolution\"]},\n",
    "#                 },\n",
    "#                     {\n",
    "#         \"taskName\": \"Recap task\",\n",
    "#         \"kind\": \"ConversationalSummarizationTask\",\n",
    "#         \"parameters\": {\"summaryAspects\": [\"recap\"]},\n",
    "#     },\n",
    "#             ],\n",
    "#         }\n",
    "#     )\n",
    "    \n",
    "    \n",
    "\n",
    "#     # view result\n",
    "#     result = poller.result()\n",
    "#     task_results = result[\"tasks\"][\"items\"]\n",
    "#     for task in task_results:\n",
    "#         print(f\"\\n{task['taskName']} status: {task['status']}\")\n",
    "#         task_result = task[\"results\"]\n",
    "#         if task_result[\"errors\"]:\n",
    "#             print(\"... errors occurred ...\")\n",
    "#             for error in task_result[\"errors\"]:\n",
    "#                 print(error)\n",
    "#         else:\n",
    "#             conversation_result = task_result[\"conversations\"][0]\n",
    "#             if conversation_result[\"warnings\"]:\n",
    "#                 print(\"... view warnings ...\")\n",
    "#                 for warning in conversation_result[\"warnings\"]:\n",
    "#                     print(warning)\n",
    "#             else:\n",
    "#                 summaries = conversation_result[\"summaries\"]\n",
    "#                 for summary in summaries:\n",
    "#                     print(f\"{summary['aspect']}: {summary['text']}\")"
   ]
  },
  {
   "cell_type": "markdown",
   "metadata": {},
   "source": [
    "# appel API Azure chunks"
   ]
  },
  {
   "cell_type": "code",
   "execution_count": null,
   "metadata": {},
   "outputs": [
    {
     "name": "stdout",
     "output_type": "stream",
     "text": [
      "\n",
      "Issue task status: succeeded\n",
      "issue: Le client a des problèmes avec la digitalisation de Carbon Waters et la cybersécurité. Il a également des préoccupations concernant la stratégie digitale, en particulier la vente en ligne et le digital marketing social media.\n",
      "\n",
      "Resolution task status: succeeded\n",
      "resolution: L'agent a expliqué que la digitalisation est liée à la cybersécurité et a fourni une vue d'ensemble des thèmes de digitalisation, y compris des exemples de projets et de PI. L'agent n'a pas fourni de solution directe pour la cybersécurité, mais a suggéré que le client pourrait avoir besoin d'aide pour comprendre les termes. L'agent et le client ont discuté de la stratégie digitale, de la vente en ligne et du digital marketing social media.\n",
      "\n",
      "Recap task status: succeeded\n",
      "recap: Le client et l'agent discutent de la digitalisation et de la cybersécurité pour Carbon Waters. Ils discutent des 10 piliers de digitalisation et des outils pour suivre l'évolution de la digitalisation. Le client demande si la stratégie digitale inclut la vente en ligne, mais l'agent explique que cela n'est pas dans les priorités. Ils discuteront également du digital marketing social media et de l'intelligence économique.\n",
      "\n",
      "Issue task status: succeeded\n",
      "issue: Le client a des problèmes avec la stratégie digitale de l'entreprise, en particulier avec le contrôle qualité, la relation client, les données de R et D, le data analytics et la sécurité des données. Ils sont également préoccupés par le changement de locaux et la cybersécurité.\n",
      "\n",
      "Resolution task status: succeeded\n",
      "resolution: L'agent a expliqué que la stratégie digitale et la planification sont des sujets importants, mais ne sont pas prioritaires à l'heure actuelle. Il a également mentionné que le cloud computing et l'infrastructure sont des topics importants, et que la cybersécurité est très importante pour permettre à Carbon Waters de survivre en cas d'attaque. L'agent n'a pas encore fourni de solution ou de prochaines étapes pour résoudre ces problèmes.\n",
      "\n",
      "Recap task status: succeeded\n",
      "recap: L'agent et le client discutent de la stratégie digitale, du contrôle qualité, du cloud computing, de l'infrastructure et de la sécurité des données. Ils discutent également de la formation des employés aux nouveaux outils digitaux et à la sécurité de l'entreprise. Le client mentionne qu'ils vont avoir un changement de locaux dans 12 mois et qu'ils devront définir des objectifs opérationnels conjointement avec les managers. Ils s'accordent pour éviter une approche trop top down.\n",
      "\n",
      "Issue task status: succeeded\n",
      "issue: Le client a des problèmes pour comprendre comment la digitalisation peut aider à l'industrialisation de l'entreprise. Il a également des préoccupations concernant la mise en place d'outils digitaux pour soutenir l'industrialization et la gestion de la complexité de la digitalisation.\n",
      "\n",
      "Resolution task status: succeeded\n",
      "resolution: L'agent a expliqué que la digitalisation doit favoriser l'évolution de l'entreprise d'une société technologique à une société industrielle et commerciale. Il a également mentionné que le pilote de digitalisation a été lancé et qu'une phase d'amélioration de la stratégie digitale (SPA) commencera dans 9 mois. L'agent n'a pas encore fourni de solution, mais a confirmé que le client doit identifier les évolutions souhaitées avec la digitalisation, l'allocation des ressources et l'investissement nécessaires.\n",
      "\n",
      "Recap task status: succeeded\n",
      "recap: Le client a discuté de la digitalisation de l'outil de production et de la stratégie globale pour l'entreprise. Ils ont mentionné un pilote et une phase d'amélioration de la stratégie digitale (SPA) de 9 mois. Ils ont également discuté de la mise en place d'outils digitaux pour aider à l'industrialisation et à la commercialisation des produits. Ils ont partagé leurs 3 grands enjeux pour l'équipe : l'industrialization, la commercialisation et l'organisation de l'équipe. L'agent a expliqué que les objectifs généraux de la stratégie numérique globale sont la digitalisation et qu'il faut identifier les évolutions à voir avec cette digitalisation, ainsi que l'allocation des ressources et l'investissement.\n",
      "\n",
      "Issue task status: succeeded\n",
      "issue: Le client a des problèmes pour décider quels outils sont déployés dans la 4e tranche de l'organisation de Carbon Waters. Il a également des préoccupations concernant le coût et les attentes à moyen terme.\n",
      "\n",
      "Resolution task status: succeeded\n",
      "resolution: L'agent a expliqué que les utilisateurs finaux des outils doivent être ceux qui décident de l'utilisation de ces outils. Il a également mentionné que chaque couche a un horizon de temps propre et que les outils donnent un horizon de 2 à 3 ans. L'agent n'a pas encore fourni de solution ou de diagnostic.\n",
      "\n",
      "Recap task status: succeeded\n",
      "recap: Le client a discuté de la nécessité d'utiliser des outils évolutifs pour gérer la transformation de Carbon Waters. Ils ont mentionné que les utilisateurs finaux doivent être ceux qui décident des outils, et que chaque couche a un horizon de temps spécifique. Le client a également mentionné que l'outil doit être en accord avec la stratégie et les attentes à moyen terme. L'agent a expliqué que c'est les opérationnels qui définissent à quel point l'utilisation de nouveaux outils sera productif.\n",
      "\n",
      "Issue task status: succeeded\n",
      "issue: Le client a des problèmes pour établir une stratégie claire pour la digitalisation de son entreprise. Il a également des préoccupations concernant la priorisation des sujets et le planning.\n",
      "\n",
      "Resolution task status: succeeded\n",
      "resolution: L'agent a suggéré de définir une feuille de route pour la transformation digitale de l'entreprise. Il a également suggéré de partager un rapport de l'IE sur la J-Télévision des PMEYA et un rapport de L'O-CD pour aider à définir les objectifs. L'agent n'a pas encore fourni de solution ou de prochaines étapes.\n",
      "\n",
      "Recap task status: succeeded\n",
      "recap: Le client a expliqué qu'il faut une stratégie claire pour la digitalisation de l'entreprise, avec des étapes claires et quantifiées. Il a également mentionné qu'il y a un rôle de conseil ou de référent à partir de l'étape 3 et que les opérationnels reprennent la main. L'agent a proposé de partager un rapport de l'IE sur la J-Télévision des PMEYA et un rapport de sondage O-CD pour aider à définir les objectifs. Le client a également souligné l'importance de diviser la stratégie en blocs de travail et de se donner un délai pour la mise en œuvre.\n",
      "\n",
      "Issue task status: succeeded\n",
      "issue: Le client a des préoccupations concernant la stratégie digitale de Carbon Waters. Il a défini les 3 points de la stratégie: l'industrialisation, la commercialisation et la simplification. Il a également des préoccupations sur l'utilisation d'outils de cybersécurité et la gestion de projet global.\n",
      "\n",
      "Resolution task status: succeeded\n",
      "resolution: L'agent a confirmé que la stratégie digitale doit être articulée autour de 3 points définis pendant une réunion. L'agent n'a pas encore fourni de solution ou de diagnostic. Il a expliqué que l'utilisation d'outils globaux pour la cybersécurité est nécessaire pour permettre la fluidité des informations et diminuer les risques cyber. L'agent ne a pas encore confirmé si l'échelle d'évaluation sur la cybersécurité a été utilisée correctement.\n",
      "\n",
      "Recap task status: succeeded\n",
      "recap: Le client et l'agent discutent de la stratégie digitale de Carbon Waters, qui doit être l'industrialisation, la commercialisation et la simplification. Ils s'accordent pour que la stratégie doit être simple et compatible avec la stratégie actuelle. Ils discutent également de l'utilisation d'une échelle d'évaluation pour la cybersécurité, et l'équipe utilise cette échelle pour s'autoévaluer et mettre en place une stratégie de cybersécurité.\n",
      "\n",
      "Issue task status: succeeded\n",
      "issue: Le client a des préoccupations concernant la cybersécurité de l'entreprise et a des prévisions pour le futur. Il a également des préoccupations sur la capacité de l'équipe à atteindre le niveau de 42 points.\n",
      "\n",
      "Resolution task status: succeeded\n",
      "resolution: L'agent a expliqué que les 18 premiers points concernent la sensibilisation du personnel, la connaissance du système d'information, l'authentification des accès et la sécurisation des postes. Les autres points sont la sécurité du réseau, la sécurisé l'administration, le nomadisme et le maintien des systèmes à jour. L'agent n'a pas encore fourni de solution ou de diagnostic. Il a expliquée que le client a déjà une roadmap claire pour la cybersécurité et que le renforcement de la cybersécurité est nécessaire sans déséquilibrer l'entreprise.\n",
      "\n",
      "Recap task status: succeeded\n",
      "recap: L'agent et le client discutent de la digitalisation et de la cybersécurité, avec l'accent mis sur la sensibilisation du personnel, l'authentification des accès et la sécurisation des postes. Ils discutent également de la sécurité du réseau, de l'administration, du nomadisme et du maintien des systèmes à jour. Le client mentionne qu'ils ont déjà une roadmap pour la cybersécurité et qu'ils doivent être ambitieux pour éviter de déséquilibrer l'entreprise. L'agent explique que la digitalisation et la cybersécurité sont des étapes importantes pour atteindre le premier palier de cybersécurité, qui est la sécurité industrielle.\n",
      "\n",
      "Issue task status: succeeded\n",
      "issue: Le client a des préoccupations concernant la sécurité industrielle et la taille des entreprises. Il a également des préoccupations sur la possibilité de loger une entreprise de moins de 10 personnes au même enseigne qu'une entreprise de 1000 ou 10000 personnes.\n",
      "\n",
      "Resolution task status: succeeded\n",
      "resolution: L'agent a expliqué que la sécurité industrielle se fera en trois phases, avec une phase sécurité industrielles minimale, une phase l'industrie globale et une autre phase l 'industrie de défense. L'agent n'a pas encore fourni de solution pour la sécurité de défense. Il a également expliqué que les tarifs seront adaptés à une entreprise de 1000 personnes et une entreprise de 10 personnes, mais que le niveau de sécurité ne sera pas le même. L'agent est en train de vérifier les financements disponibles pour accompagner les entreprises.\n",
      "\n",
      "Recap task status: succeeded\n",
      "recap: L'agent a expliqué que la cybersécurité industrielle sera obligatoire en 2026 et que les entreprises de différentes tailles pourront avoir des infrastructures différentes. Ils ont également discuté des financements disponibles pour les entreprises, notamment YABI, FEDER, Horizon et Digital Europe. Le client a demandé des informations sur l'auto-diagnostic cybersécurité de la BPI et l'agent a confirmé qu'il est possible de le faire au début.\n",
      "\n",
      "Issue task status: succeeded\n",
      "issue: Le client a un problème de sécurité avec la gestion du réseau principal. La fibre internet est protégée par un firewall, mais une fois passée cette protection, elle est distribuée entre plusieurs entreprises. Si un stagiaire de l'entreprise en dessous ouvre un lien, un hacker aura accès à toutes les données, ce qui est dangereux.\n",
      "\n",
      "Resolution task status: succeeded\n",
      "resolution: L'agent a expliqué que le firewall est un pare-feu qui protège les fibres de carbone et les autres entreprises. Il a proposé de rajouter un firewall à leur périmètre pour protéger les données. Il a également mentionné la création de 6 sous-réseaux, qui seront distribués par un switch.\n",
      "\n",
      "Recap task status: succeeded\n",
      "recap: L'agent explique que la fibre internet est protégée par un firewall, mais une fois distribuée entre plusieurs entreprises, il y a peu de sécurité. Cela peut être dangereux pour les données des utilisateurs et peut entraîner l'accès à des données inconnues. L'agent suggère d'ajouter un firewall commun pour protéger la fibre et créer des sous-réseaux. Il mentionne que cela pourrait être nécessaire plus tard, mais qu'il discutera des sous-réquences avec le client.\n",
      "\n",
      "Issue task status: succeeded\n",
      "issue: Le client a des problèmes avec l'utilisation de deux NAS et a besoin de sécurité supplémentaire pour éviter toute perte de données. Il a également des préoccupations concernant la synchronisation régulière entre les deux NAS et la possibilité de débrancher le NAS Backup pour une synchronisation régunération.\n",
      "\n",
      "Resolution task status: succeeded\n",
      "resolution: L'agent a suggéré de changer les deux NAS pour éviter toute perte de données et a mentionné que cela nécessiterait la création d'un firewall avec le switch. L'agent n'a pas encore fourni de solution pour le problème de sécurité du NAS backup. Il a également suggéré d'améliorer le niveau de sécurité temporairement en formant les autres entreprises en cybersécurité.\n",
      "\n",
      "Recap task status: succeeded\n",
      "recap: L'agent a discuté de la sécurité des données sur deux NAS, un NAS principal et un NAS de sauvegarde, et a suggéré de les échanger avant de changer de bâtiment pour éviter toute perte de données. Ils ont également discuté de l'importance de mettre en place un firewall supplémentaire et de former les autres entreprises en cybersécurité. Le client a demandé s'il était possible de synchroniser régulièrement les deux NAS, mais l'agent a expliqué que cela ne fonctionnerait pas car les deux étaient obsolètes et qu'ils devaient être changer.\n",
      "\n",
      "Issue task status: succeeded\n",
      "issue: Le client a des préoccupations concernant la conservation de la box Orange en backup car elle n'est plus utilisée car elle n'a plus accès à Internet. De plus, le client a des questions sur la sécurité de la box Orange et a demandé l'accord du client pour faire un questionnaire pour sécuriser le système informatique de Carbon Waters.\n",
      "\n",
      "Resolution task status: succeeded\n",
      "resolution: L'agent a expliqué que la box Orange n'a aucun intérêt car elle n'est pas nécessaire car elle n 'est plus connectée au même réseau qu'elle n'est plus. L'agent n'a pas pu fournir de solution à la question du backup de la box Orange. L'agent et le client ont discuté de la sécurité de la box Orange et de la mise en place d'un questionnaire pour rappeler les bonnes pratiques informatiques. L'agent est prêt à envoyer le questionnaire à la rentrée pour une assistance supplémentaire.\n",
      "\n",
      "Recap task status: succeeded\n",
      "recap: L'agent et le client discutent de la nécessité de garder une box orange en backup pour éviter les risques cyber, car ils n'ont plus accès à la box et ne sont plus connectés au même réseau. Le client s'en plaint et pense qu'ils peuvent s'en passer. Ils discutent également de la sécurité et de la mise en place d'un questionnaire pour informer les utilisateurs sur les bonnes pratiques informatiques. Le client demande l'envoi du questionnaire à la rentrée, et l'agent accepte.\n",
      "\n",
      "Issue task status: succeeded\n",
      "issue: Le client, Carbon Waters, a besoin d'un devis pour mettre en place un firewall et un switch pour protéger ses données sensibles. Il a également mentionné que le coût total serait de 20000€.\n",
      "\n",
      "Resolution task status: succeeded\n",
      "resolution: L'agent a expliqué que le coût total pour le firewall et le switch est de 10 000 euros, ce qui représente un total de 20 000 euros. L'agent n'a pas pu fournir une offre d'abonnement direct, mais a suggéré que le client pourrait avoir besoin d'un abonnement mensuel avec NOVENCI, leur prestataire actuel pour l'infrastructure réseau PC. L'agent ne peut pas changer de prestataire informatique tant que les dépenses ne sont pas réglées.\n",
      "\n",
      "Recap task status: succeeded\n",
      "recap: L'agent et le client discutent des coûts de la mise en place d'un firewall et d'un switch pour l'entreprise Carbon Waters. Le client mentionne que leur priorité est d'assurer l'activité de Carbone et qu'ils ne peuvent pas donner un montant définitif. L'agent propose de modifier l'abonnement mensuel avec NOVENCI, leur prestataire actuel pour l'infrastructure réseau PC, pour être en phase avec leur besoin de sécurité. Le client peut conserver leur prestataire actuelle avant le déménagement, mais peut peut-être réfléchir à un nouveau prestataire lors du changement de bâtiment.\n",
      "\n",
      "Issue task status: succeeded\n",
      "issue: Le client a des préoccupations concernant le prestataire de sécurité qu'il a actuellement et s'il est le bon prestataire pour ses objectifs de cybersécurité. Il a également des préoccupations sur les coûts associés au devis et a besoin d'une étude comparative pour comprendre les coûts.\n",
      "\n",
      "Resolution task status: succeeded\n",
      "resolution: L'agent a suggéré de discuter avec d'autres prestataires pour voir ce qui est proposé. L'agent n'a pas encore fourni de solution pour la question de la cybersécurité. Il a également mentionné que la prochaine réunion serait dans un mois pour discuter des avancements. L'agent et le client ont discuté de la stratégie digitale et des objectifs à atteindre. Ils ont également discuté des coûts et des objectifs, mais n'ont pas encore donné de chiffres pour une décision.\n",
      "\n",
      "Recap task status: succeeded\n",
      "recap: Le client et l'agent discutent des dépenses à faire et de la sélection du bon prestataire pour l'environnement de sécurité. Le client mentionne que la prestation actuelle est trop light et qu'ils devraient évaluer les tarifs et la qualité de la prestation. L'agent suggère de discuter avec d'autres prestataires et de faire une étude comparative. Le client mentionnent qu'ils travaillent sur la stratégie digitale et les objectifs ACI 6 mois à un an. Ils discutent également des coûts et des objectifs liés aux ressources.\n"
     ]
    },
    {
     "ename": "HttpResponseError",
     "evalue": "(InvalidRequest) Invalid Request.\nCode: InvalidRequest\nMessage: Invalid Request.\nException Details:\t(InvalidRequest) Job task: 'ConversationalSummarizationTask-Issue task' failed with validation error: Empty conversationItem payload for conversation 'meetingWenboRemi_part_14' item '328'.\n\tCode: InvalidRequest\n\tMessage: Job task: 'ConversationalSummarizationTask-Issue task' failed with validation error: Empty conversationItem payload for conversation 'meetingWenboRemi_part_14' item '328'.\t(InvalidRequest) Job task: 'ConversationalSummarizationTask-Resolution task' failed with validation error: Empty conversationItem payload for conversation 'meetingWenboRemi_part_14' item '328'.\n\tCode: InvalidRequest\n\tMessage: Job task: 'ConversationalSummarizationTask-Resolution task' failed with validation error: Empty conversationItem payload for conversation 'meetingWenboRemi_part_14' item '328'.\t(InvalidRequest) Job task: 'ConversationalSummarizationTask-Recap task' failed with validation error: Empty conversationItem payload for conversation 'meetingWenboRemi_part_14' item '328'.\n\tCode: InvalidRequest\n\tMessage: Job task: 'ConversationalSummarizationTask-Recap task' failed with validation error: Empty conversationItem payload for conversation 'meetingWenboRemi_part_14' item '328'.\nInner error: {\n    \"code\": \"InvalidParameterValue\",\n    \"message\": \"Job task: 'ConversationalSummarizationTask-Issue task' failed with validation errors: ['Invalid Request.']Job task: 'ConversationalSummarizationTask-Resolution task' failed with validation errors: ['Invalid Request.']Job task: 'ConversationalSummarizationTask-Recap task' failed with validation errors: ['Invalid Request.']\"\n}",
     "output_type": "error",
     "traceback": [
      "\u001b[0;31m---------------------------------------------------------------------------\u001b[0m",
      "\u001b[0;31mHttpResponseError\u001b[0m                         Traceback (most recent call last)",
      "Cell \u001b[0;32mIn[22], line 16\u001b[0m\n\u001b[1;32m     14\u001b[0m \u001b[38;5;28;01mfor\u001b[39;00m idx, chunk \u001b[38;5;129;01min\u001b[39;00m \u001b[38;5;28menumerate\u001b[39m(conversation_chunks):\n\u001b[1;32m     15\u001b[0m     conversation_id \u001b[38;5;241m=\u001b[39m \u001b[38;5;124mf\u001b[39m\u001b[38;5;124m\"\u001b[39m\u001b[38;5;124mmeetingWenboRemi_part_\u001b[39m\u001b[38;5;132;01m{\u001b[39;00midx\u001b[38;5;250m \u001b[39m\u001b[38;5;241m+\u001b[39m\u001b[38;5;250m \u001b[39m\u001b[38;5;241m1\u001b[39m\u001b[38;5;132;01m}\u001b[39;00m\u001b[38;5;124m\"\u001b[39m\n\u001b[0;32m---> 16\u001b[0m     poller \u001b[38;5;241m=\u001b[39m \u001b[43mclient\u001b[49m\u001b[38;5;241;43m.\u001b[39;49m\u001b[43mbegin_conversation_analysis\u001b[49m\u001b[43m(\u001b[49m\n\u001b[1;32m     17\u001b[0m \u001b[43m        \u001b[49m\u001b[43mtask\u001b[49m\u001b[38;5;241;43m=\u001b[39;49m\u001b[43m{\u001b[49m\n\u001b[1;32m     18\u001b[0m \u001b[43m            \u001b[49m\u001b[38;5;124;43m\"\u001b[39;49m\u001b[38;5;124;43mdisplayName\u001b[39;49m\u001b[38;5;124;43m\"\u001b[39;49m\u001b[43m:\u001b[49m\u001b[43m \u001b[49m\u001b[38;5;124;43mf\u001b[39;49m\u001b[38;5;124;43m\"\u001b[39;49m\u001b[38;5;124;43mAnalyze conversations part \u001b[39;49m\u001b[38;5;132;43;01m{\u001b[39;49;00m\u001b[43midx\u001b[49m\u001b[38;5;250;43m \u001b[39;49m\u001b[38;5;241;43m+\u001b[39;49m\u001b[38;5;250;43m \u001b[39;49m\u001b[38;5;241;43m1\u001b[39;49m\u001b[38;5;132;43;01m}\u001b[39;49;00m\u001b[38;5;124;43m\"\u001b[39;49m\u001b[43m,\u001b[49m\n\u001b[1;32m     19\u001b[0m \u001b[43m            \u001b[49m\u001b[38;5;124;43m\"\u001b[39;49m\u001b[38;5;124;43manalysisInput\u001b[39;49m\u001b[38;5;124;43m\"\u001b[39;49m\u001b[43m:\u001b[49m\u001b[43m \u001b[49m\u001b[43m{\u001b[49m\n\u001b[1;32m     20\u001b[0m \u001b[43m                \u001b[49m\u001b[38;5;124;43m\"\u001b[39;49m\u001b[38;5;124;43mconversations\u001b[39;49m\u001b[38;5;124;43m\"\u001b[39;49m\u001b[43m:\u001b[49m\u001b[43m \u001b[49m\u001b[43m[\u001b[49m\n\u001b[1;32m     21\u001b[0m \u001b[43m                    \u001b[49m\u001b[43m{\u001b[49m\n\u001b[1;32m     22\u001b[0m \u001b[43m                        \u001b[49m\u001b[38;5;124;43m\"\u001b[39;49m\u001b[38;5;124;43mconversationItems\u001b[39;49m\u001b[38;5;124;43m\"\u001b[39;49m\u001b[43m:\u001b[49m\u001b[43m \u001b[49m\u001b[43mchunk\u001b[49m\u001b[43m,\u001b[49m\n\u001b[1;32m     23\u001b[0m \u001b[43m                        \u001b[49m\u001b[38;5;124;43m\"\u001b[39;49m\u001b[38;5;124;43mmodality\u001b[39;49m\u001b[38;5;124;43m\"\u001b[39;49m\u001b[43m:\u001b[49m\u001b[43m \u001b[49m\u001b[38;5;124;43m\"\u001b[39;49m\u001b[38;5;124;43mtext\u001b[39;49m\u001b[38;5;124;43m\"\u001b[39;49m\u001b[43m,\u001b[49m\n\u001b[1;32m     24\u001b[0m \u001b[43m                        \u001b[49m\u001b[38;5;124;43m\"\u001b[39;49m\u001b[38;5;124;43mid\u001b[39;49m\u001b[38;5;124;43m\"\u001b[39;49m\u001b[43m:\u001b[49m\u001b[43m \u001b[49m\u001b[43mconversation_id\u001b[49m\u001b[43m,\u001b[49m\n\u001b[1;32m     25\u001b[0m \u001b[43m                        \u001b[49m\u001b[38;5;124;43m\"\u001b[39;49m\u001b[38;5;124;43mlanguage\u001b[39;49m\u001b[38;5;124;43m\"\u001b[39;49m\u001b[43m:\u001b[49m\u001b[43m \u001b[49m\u001b[38;5;124;43m\"\u001b[39;49m\u001b[38;5;124;43mfr\u001b[39;49m\u001b[38;5;124;43m\"\u001b[39;49m\u001b[43m,\u001b[49m\n\u001b[1;32m     26\u001b[0m \u001b[43m                    \u001b[49m\u001b[43m}\u001b[49m\u001b[43m,\u001b[49m\n\u001b[1;32m     27\u001b[0m \u001b[43m                \u001b[49m\u001b[43m]\u001b[49m\n\u001b[1;32m     28\u001b[0m \u001b[43m            \u001b[49m\u001b[43m}\u001b[49m\u001b[43m,\u001b[49m\n\u001b[1;32m     29\u001b[0m \u001b[43m            \u001b[49m\u001b[38;5;124;43m\"\u001b[39;49m\u001b[38;5;124;43mtasks\u001b[39;49m\u001b[38;5;124;43m\"\u001b[39;49m\u001b[43m:\u001b[49m\u001b[43m \u001b[49m\u001b[43m[\u001b[49m\n\u001b[1;32m     30\u001b[0m \u001b[43m                \u001b[49m\u001b[43m{\u001b[49m\n\u001b[1;32m     31\u001b[0m \u001b[43m                    \u001b[49m\u001b[38;5;124;43m\"\u001b[39;49m\u001b[38;5;124;43mtaskName\u001b[39;49m\u001b[38;5;124;43m\"\u001b[39;49m\u001b[43m:\u001b[49m\u001b[43m \u001b[49m\u001b[38;5;124;43m\"\u001b[39;49m\u001b[38;5;124;43mIssue task\u001b[39;49m\u001b[38;5;124;43m\"\u001b[39;49m\u001b[43m,\u001b[49m\n\u001b[1;32m     32\u001b[0m \u001b[43m                    \u001b[49m\u001b[38;5;124;43m\"\u001b[39;49m\u001b[38;5;124;43mkind\u001b[39;49m\u001b[38;5;124;43m\"\u001b[39;49m\u001b[43m:\u001b[49m\u001b[43m \u001b[49m\u001b[38;5;124;43m\"\u001b[39;49m\u001b[38;5;124;43mConversationalSummarizationTask\u001b[39;49m\u001b[38;5;124;43m\"\u001b[39;49m\u001b[43m,\u001b[49m\n\u001b[1;32m     33\u001b[0m \u001b[43m                    \u001b[49m\u001b[38;5;124;43m\"\u001b[39;49m\u001b[38;5;124;43mparameters\u001b[39;49m\u001b[38;5;124;43m\"\u001b[39;49m\u001b[43m:\u001b[49m\u001b[43m \u001b[49m\u001b[43m{\u001b[49m\u001b[38;5;124;43m\"\u001b[39;49m\u001b[38;5;124;43msummaryAspects\u001b[39;49m\u001b[38;5;124;43m\"\u001b[39;49m\u001b[43m:\u001b[49m\u001b[43m \u001b[49m\u001b[43m[\u001b[49m\u001b[38;5;124;43m\"\u001b[39;49m\u001b[38;5;124;43missue\u001b[39;49m\u001b[38;5;124;43m\"\u001b[39;49m\u001b[43m]\u001b[49m\u001b[43m}\u001b[49m\u001b[43m,\u001b[49m\n\u001b[1;32m     34\u001b[0m \u001b[43m                \u001b[49m\u001b[43m}\u001b[49m\u001b[43m,\u001b[49m\n\u001b[1;32m     35\u001b[0m \u001b[43m                \u001b[49m\u001b[43m{\u001b[49m\n\u001b[1;32m     36\u001b[0m \u001b[43m                    \u001b[49m\u001b[38;5;124;43m\"\u001b[39;49m\u001b[38;5;124;43mtaskName\u001b[39;49m\u001b[38;5;124;43m\"\u001b[39;49m\u001b[43m:\u001b[49m\u001b[43m \u001b[49m\u001b[38;5;124;43m\"\u001b[39;49m\u001b[38;5;124;43mResolution task\u001b[39;49m\u001b[38;5;124;43m\"\u001b[39;49m\u001b[43m,\u001b[49m\n\u001b[1;32m     37\u001b[0m \u001b[43m                    \u001b[49m\u001b[38;5;124;43m\"\u001b[39;49m\u001b[38;5;124;43mkind\u001b[39;49m\u001b[38;5;124;43m\"\u001b[39;49m\u001b[43m:\u001b[49m\u001b[43m \u001b[49m\u001b[38;5;124;43m\"\u001b[39;49m\u001b[38;5;124;43mConversationalSummarizationTask\u001b[39;49m\u001b[38;5;124;43m\"\u001b[39;49m\u001b[43m,\u001b[49m\n\u001b[1;32m     38\u001b[0m \u001b[43m                    \u001b[49m\u001b[38;5;124;43m\"\u001b[39;49m\u001b[38;5;124;43mparameters\u001b[39;49m\u001b[38;5;124;43m\"\u001b[39;49m\u001b[43m:\u001b[49m\u001b[43m \u001b[49m\u001b[43m{\u001b[49m\u001b[38;5;124;43m\"\u001b[39;49m\u001b[38;5;124;43msummaryAspects\u001b[39;49m\u001b[38;5;124;43m\"\u001b[39;49m\u001b[43m:\u001b[49m\u001b[43m \u001b[49m\u001b[43m[\u001b[49m\u001b[38;5;124;43m\"\u001b[39;49m\u001b[38;5;124;43mresolution\u001b[39;49m\u001b[38;5;124;43m\"\u001b[39;49m\u001b[43m]\u001b[49m\u001b[43m}\u001b[49m\u001b[43m,\u001b[49m\n\u001b[1;32m     39\u001b[0m \u001b[43m                \u001b[49m\u001b[43m}\u001b[49m\u001b[43m,\u001b[49m\n\u001b[1;32m     40\u001b[0m \u001b[43m                \u001b[49m\u001b[43m{\u001b[49m\n\u001b[1;32m     41\u001b[0m \u001b[43m                    \u001b[49m\u001b[38;5;124;43m\"\u001b[39;49m\u001b[38;5;124;43mtaskName\u001b[39;49m\u001b[38;5;124;43m\"\u001b[39;49m\u001b[43m:\u001b[49m\u001b[43m \u001b[49m\u001b[38;5;124;43m\"\u001b[39;49m\u001b[38;5;124;43mRecap task\u001b[39;49m\u001b[38;5;124;43m\"\u001b[39;49m\u001b[43m,\u001b[49m\n\u001b[1;32m     42\u001b[0m \u001b[43m                    \u001b[49m\u001b[38;5;124;43m\"\u001b[39;49m\u001b[38;5;124;43mkind\u001b[39;49m\u001b[38;5;124;43m\"\u001b[39;49m\u001b[43m:\u001b[49m\u001b[43m \u001b[49m\u001b[38;5;124;43m\"\u001b[39;49m\u001b[38;5;124;43mConversationalSummarizationTask\u001b[39;49m\u001b[38;5;124;43m\"\u001b[39;49m\u001b[43m,\u001b[49m\n\u001b[1;32m     43\u001b[0m \u001b[43m                    \u001b[49m\u001b[38;5;124;43m\"\u001b[39;49m\u001b[38;5;124;43mparameters\u001b[39;49m\u001b[38;5;124;43m\"\u001b[39;49m\u001b[43m:\u001b[49m\u001b[43m \u001b[49m\u001b[43m{\u001b[49m\u001b[38;5;124;43m\"\u001b[39;49m\u001b[38;5;124;43msummaryAspects\u001b[39;49m\u001b[38;5;124;43m\"\u001b[39;49m\u001b[43m:\u001b[49m\u001b[43m \u001b[49m\u001b[43m[\u001b[49m\u001b[38;5;124;43m\"\u001b[39;49m\u001b[38;5;124;43mrecap\u001b[39;49m\u001b[38;5;124;43m\"\u001b[39;49m\u001b[43m]\u001b[49m\u001b[43m}\u001b[49m\u001b[43m,\u001b[49m\n\u001b[1;32m     44\u001b[0m \u001b[43m                \u001b[49m\u001b[43m}\u001b[49m\u001b[43m,\u001b[49m\n\u001b[1;32m     45\u001b[0m \u001b[43m            \u001b[49m\u001b[43m]\u001b[49m\u001b[43m,\u001b[49m\n\u001b[1;32m     46\u001b[0m \u001b[43m        \u001b[49m\u001b[43m}\u001b[49m\n\u001b[1;32m     47\u001b[0m \u001b[43m    \u001b[49m\u001b[43m)\u001b[49m\n\u001b[1;32m     48\u001b[0m     result \u001b[38;5;241m=\u001b[39m poller\u001b[38;5;241m.\u001b[39mresult()\n\u001b[1;32m     49\u001b[0m     results\u001b[38;5;241m.\u001b[39mappend(result)\n",
      "File \u001b[0;32m/home/RemiCazelles/anaconda3/envs/CW_Azure-services/lib/python3.12/site-packages/azure/core/tracing/decorator.py:94\u001b[0m, in \u001b[0;36mdistributed_trace.<locals>.decorator.<locals>.wrapper_use_tracer\u001b[0;34m(*args, **kwargs)\u001b[0m\n\u001b[1;32m     92\u001b[0m span_impl_type \u001b[38;5;241m=\u001b[39m settings\u001b[38;5;241m.\u001b[39mtracing_implementation()\n\u001b[1;32m     93\u001b[0m \u001b[38;5;28;01mif\u001b[39;00m span_impl_type \u001b[38;5;129;01mis\u001b[39;00m \u001b[38;5;28;01mNone\u001b[39;00m:\n\u001b[0;32m---> 94\u001b[0m     \u001b[38;5;28;01mreturn\u001b[39;00m \u001b[43mfunc\u001b[49m\u001b[43m(\u001b[49m\u001b[38;5;241;43m*\u001b[39;49m\u001b[43margs\u001b[49m\u001b[43m,\u001b[49m\u001b[43m \u001b[49m\u001b[38;5;241;43m*\u001b[39;49m\u001b[38;5;241;43m*\u001b[39;49m\u001b[43mkwargs\u001b[49m\u001b[43m)\u001b[49m\n\u001b[1;32m     96\u001b[0m \u001b[38;5;66;03m# Merge span is parameter is set, but only if no explicit parent are passed\u001b[39;00m\n\u001b[1;32m     97\u001b[0m \u001b[38;5;28;01mif\u001b[39;00m merge_span \u001b[38;5;129;01mand\u001b[39;00m \u001b[38;5;129;01mnot\u001b[39;00m passed_in_parent:\n",
      "File \u001b[0;32m/home/RemiCazelles/anaconda3/envs/CW_Azure-services/lib/python3.12/site-packages/azure/ai/language/conversations/_operations/_operations.py:891\u001b[0m, in \u001b[0;36mConversationAnalysisClientOperationsMixin.begin_conversation_analysis\u001b[0;34m(self, task, **kwargs)\u001b[0m\n\u001b[1;32m    889\u001b[0m cont_token: Optional[\u001b[38;5;28mstr\u001b[39m] \u001b[38;5;241m=\u001b[39m kwargs\u001b[38;5;241m.\u001b[39mpop(\u001b[38;5;124m\"\u001b[39m\u001b[38;5;124mcontinuation_token\u001b[39m\u001b[38;5;124m\"\u001b[39m, \u001b[38;5;28;01mNone\u001b[39;00m)\n\u001b[1;32m    890\u001b[0m \u001b[38;5;28;01mif\u001b[39;00m cont_token \u001b[38;5;129;01mis\u001b[39;00m \u001b[38;5;28;01mNone\u001b[39;00m:\n\u001b[0;32m--> 891\u001b[0m     raw_result \u001b[38;5;241m=\u001b[39m \u001b[38;5;28;43mself\u001b[39;49m\u001b[38;5;241;43m.\u001b[39;49m\u001b[43m_conversation_analysis_initial\u001b[49m\u001b[43m(\u001b[49m\n\u001b[1;32m    892\u001b[0m \u001b[43m        \u001b[49m\u001b[43mtask\u001b[49m\u001b[38;5;241;43m=\u001b[39;49m\u001b[43mtask\u001b[49m\u001b[43m,\u001b[49m\u001b[43m \u001b[49m\u001b[43mcontent_type\u001b[49m\u001b[38;5;241;43m=\u001b[39;49m\u001b[43mcontent_type\u001b[49m\u001b[43m,\u001b[49m\u001b[43m \u001b[49m\u001b[38;5;28;43mcls\u001b[39;49m\u001b[38;5;241;43m=\u001b[39;49m\u001b[38;5;28;43;01mlambda\u001b[39;49;00m\u001b[43m \u001b[49m\u001b[43mx\u001b[49m\u001b[43m,\u001b[49m\u001b[43m \u001b[49m\u001b[43my\u001b[49m\u001b[43m,\u001b[49m\u001b[43m \u001b[49m\u001b[43mz\u001b[49m\u001b[43m:\u001b[49m\u001b[43m \u001b[49m\u001b[43mx\u001b[49m\u001b[43m,\u001b[49m\u001b[43m \u001b[49m\u001b[43mheaders\u001b[49m\u001b[38;5;241;43m=\u001b[39;49m\u001b[43m_headers\u001b[49m\u001b[43m,\u001b[49m\u001b[43m \u001b[49m\u001b[43mparams\u001b[49m\u001b[38;5;241;43m=\u001b[39;49m\u001b[43m_params\u001b[49m\u001b[43m,\u001b[49m\u001b[43m \u001b[49m\u001b[38;5;241;43m*\u001b[39;49m\u001b[38;5;241;43m*\u001b[39;49m\u001b[43mkwargs\u001b[49m\n\u001b[1;32m    893\u001b[0m \u001b[43m    \u001b[49m\u001b[43m)\u001b[49m\n\u001b[1;32m    894\u001b[0m kwargs\u001b[38;5;241m.\u001b[39mpop(\u001b[38;5;124m\"\u001b[39m\u001b[38;5;124merror_map\u001b[39m\u001b[38;5;124m\"\u001b[39m, \u001b[38;5;28;01mNone\u001b[39;00m)\n\u001b[1;32m    896\u001b[0m \u001b[38;5;28;01mdef\u001b[39;00m \u001b[38;5;21mget_long_running_output\u001b[39m(pipeline_response):\n",
      "File \u001b[0;32m/home/RemiCazelles/anaconda3/envs/CW_Azure-services/lib/python3.12/site-packages/azure/ai/language/conversations/_operations/_operations.py:505\u001b[0m, in \u001b[0;36mConversationAnalysisClientOperationsMixin._conversation_analysis_initial\u001b[0;34m(self, task, **kwargs)\u001b[0m\n\u001b[1;32m    503\u001b[0m \u001b[38;5;28;01mif\u001b[39;00m response\u001b[38;5;241m.\u001b[39mstatus_code \u001b[38;5;129;01mnot\u001b[39;00m \u001b[38;5;129;01min\u001b[39;00m [\u001b[38;5;241m200\u001b[39m, \u001b[38;5;241m202\u001b[39m]:\n\u001b[1;32m    504\u001b[0m     map_error(status_code\u001b[38;5;241m=\u001b[39mresponse\u001b[38;5;241m.\u001b[39mstatus_code, response\u001b[38;5;241m=\u001b[39mresponse, error_map\u001b[38;5;241m=\u001b[39merror_map)\n\u001b[0;32m--> 505\u001b[0m     \u001b[38;5;28;01mraise\u001b[39;00m HttpResponseError(response\u001b[38;5;241m=\u001b[39mresponse)\n\u001b[1;32m    507\u001b[0m deserialized \u001b[38;5;241m=\u001b[39m \u001b[38;5;28;01mNone\u001b[39;00m\n\u001b[1;32m    508\u001b[0m response_headers \u001b[38;5;241m=\u001b[39m {}\n",
      "\u001b[0;31mHttpResponseError\u001b[0m: (InvalidRequest) Invalid Request.\nCode: InvalidRequest\nMessage: Invalid Request.\nException Details:\t(InvalidRequest) Job task: 'ConversationalSummarizationTask-Issue task' failed with validation error: Empty conversationItem payload for conversation 'meetingWenboRemi_part_14' item '328'.\n\tCode: InvalidRequest\n\tMessage: Job task: 'ConversationalSummarizationTask-Issue task' failed with validation error: Empty conversationItem payload for conversation 'meetingWenboRemi_part_14' item '328'.\t(InvalidRequest) Job task: 'ConversationalSummarizationTask-Resolution task' failed with validation error: Empty conversationItem payload for conversation 'meetingWenboRemi_part_14' item '328'.\n\tCode: InvalidRequest\n\tMessage: Job task: 'ConversationalSummarizationTask-Resolution task' failed with validation error: Empty conversationItem payload for conversation 'meetingWenboRemi_part_14' item '328'.\t(InvalidRequest) Job task: 'ConversationalSummarizationTask-Recap task' failed with validation error: Empty conversationItem payload for conversation 'meetingWenboRemi_part_14' item '328'.\n\tCode: InvalidRequest\n\tMessage: Job task: 'ConversationalSummarizationTask-Recap task' failed with validation error: Empty conversationItem payload for conversation 'meetingWenboRemi_part_14' item '328'.\nInner error: {\n    \"code\": \"InvalidParameterValue\",\n    \"message\": \"Job task: 'ConversationalSummarizationTask-Issue task' failed with validation errors: ['Invalid Request.']Job task: 'ConversationalSummarizationTask-Resolution task' failed with validation errors: ['Invalid Request.']Job task: 'ConversationalSummarizationTask-Recap task' failed with validation errors: ['Invalid Request.']\"\n}"
     ]
    }
   ],
   "source": [
    "import unicodedata\n",
    "from azure.core.credentials import AzureKeyCredential\n",
    "from azure.ai.language.conversations import ConversationAnalysisClient\n",
    "\n",
    "\n",
    "# conversation_chunks = chunk_text_by_length(formatted_paragraphs,max_length=4500)\n",
    "\n",
    "conversation_chunks = chunks\n",
    "\n",
    "client = ConversationAnalysisClient(LANGUAGE_ENDPOINT, AzureKeyCredential(LANGUAGE_KEY))\n",
    "\n",
    "try:\n",
    "    results = []\n",
    "    for idx, chunk in enumerate(conversation_chunks):\n",
    "        conversation_id = f\"meetingWenboRemi_part_{idx + 1}\"\n",
    "        poller = client.begin_conversation_analysis(\n",
    "            task={\n",
    "                \"displayName\": f\"Analyze conversations part {idx + 1}\",\n",
    "                \"analysisInput\": {\n",
    "                    \"conversations\": [\n",
    "                        {\n",
    "                            \"conversationItems\": chunk,\n",
    "                            \"modality\": \"text\",\n",
    "                            \"id\": conversation_id,\n",
    "                            \"language\": \"fr\",\n",
    "                        },\n",
    "                    ]\n",
    "                },\n",
    "                \"tasks\": [\n",
    "                    # {\n",
    "                    #     \"taskName\": \"Issue task\",\n",
    "                    #     \"kind\": \"ConversationalSummarizationTask\",\n",
    "                    #     \"parameters\": {\"summaryAspects\": [\"issue\"]},\n",
    "                    # },\n",
    "                    # {\n",
    "                    #     \"taskName\": \"Resolution task\",\n",
    "                    #     \"kind\": \"ConversationalSummarizationTask\",\n",
    "                    #     \"parameters\": {\"summaryAspects\": [\"resolution\"]},\n",
    "                    # },\n",
    "                    {\n",
    "                        \"taskName\": \"Recap task\",\n",
    "                        \"kind\": \"ConversationalSummarizationTask\",\n",
    "                        \"parameters\": {\"summaryAspects\": [\"recap\"]},\n",
    "                    },\n",
    "                ],\n",
    "            }\n",
    "        )\n",
    "        result = poller.result()\n",
    "        results.append(result)\n",
    "        view_result(result)\n",
    "        \n",
    "finally:\n",
    "    client.close()\n",
    "\n",
    "        \n",
    "\n",
    "# Combine results as needed\n",
    "for idx, result in enumerate(results):\n",
    "    print(f\"Results for part {idx + 1}: {result}\")\n"
   ]
  },
  {
   "cell_type": "code",
   "execution_count": null,
   "metadata": {},
   "outputs": [],
   "source": [
    "# view result\n",
    "result = poller.result()\n",
    "\n",
    "def view_result(result):\n",
    "    task_results = result[\"tasks\"][\"items\"]\n",
    "    for task in task_results:\n",
    "        print(f\"\\n{task['taskName']} status: {task['status']}\")\n",
    "        task_result = task[\"results\"]\n",
    "        if task_result[\"errors\"]:\n",
    "            print(\"... errors occurred ...\")\n",
    "            for error in task_result[\"errors\"]:\n",
    "                print(error)\n",
    "        else:\n",
    "            conversation_result = task_result[\"conversations\"][0]\n",
    "            if conversation_result[\"warnings\"]:\n",
    "                print(\"... view warnings ...\")\n",
    "                for warning in conversation_result[\"warnings\"]:\n",
    "                    print(warning)\n",
    "            else:\n",
    "                summaries = conversation_result[\"summaries\"]\n",
    "                for summary in summaries:\n",
    "                    print(f\"{summary['aspect']}: {summary['text']}\")"
   ]
  },
  {
   "cell_type": "markdown",
   "metadata": {},
   "source": [
    "# estimate token usage\n",
    "\"\"\"\n",
    "While not a precise way of tracking tokens, you can estimate token usage based on the size of the input text you're sending. The number of tokens depends on the service, but you can approximate that:\n",
    "\n",
    "1 token is roughly 4 characters (or about 3/4 of a word).\n",
    "For example, if you are sending a string of 400 characters, you can estimate that it uses around 100 tokens.\n",
    "You can manually log the input size (character count) as a proxy for token usage, but the exact number of tokens can vary depending on the language model and other factors.\n",
    "\"\"\"\n",
    "\n",
    "## Track Token Usage via Azure Monitor\n",
    "\n",
    "If you're looking for more detailed token usage statistics, Azure's Monitor and Cost Management tools are useful. Here's how you can programmatically track token usage:\n",
    "\n",
    "Using Azure Monitor and Azure SDK for Python\n",
    "Set up monitoring in Azure Monitor for the Cognitive Service resource.\n",
    "Use Azure Monitor metrics to track the token usage for your Cognitive Services resource.\n",
    "You can query metrics using the azure-mgmt-monitor SDK to get detailed data about token consumption (e.g., TotalTokens metric).\n",
    "\n",
    "\n",
    "```from azure.identity import DefaultAzureCredential\n",
    "from azure.mgmt.monitor import MonitorManagementClient\n",
    "from azure.mgmt.monitor.models import MetricAggregationType\n",
    "\n",
    "# Initialize the MonitorManagementClient\n",
    "credential = DefaultAzureCredential()\n",
    "monitor_client = MonitorManagementClient(credential, subscription_id)\n",
    "\n",
    "# Specify the resource ID of the Cognitive Services\n",
    "resource_id = \"/subscriptions/{subscription_id}/resourceGroups/{resource_group}/providers/Microsoft.CognitiveServices/accounts/{account_name}\"\n",
    "\n",
    "# Get metrics for the cognitive service\n",
    "metrics = monitor_client.metrics.list(\n",
    "    resource_id,\n",
    "    timespan=\"2024-11-01T00:00:00Z/2024-11-12T00:00:00Z\",  # Specify your timespan\n",
    "    metricnames=\"TotalTokens\",  # Metric to track token usage\n",
    "    aggregation=MetricAggregationType.SUM\n",
    ")\n",
    "\n",
    "for metric in metrics.value:\n",
    "    print(f\"Metric: {metric.name.localized_value}\")\n",
    "    for time_series in metric.timeseries:\n",
    "        for data in time_series.data:\n",
    "            print(f\"Timestamp: {data.timestamp}, Total Tokens: {data.total}\")```\n",
    "\n",
    "\n",
    "## Check Azure Cost Management Programmatically\n",
    "\n",
    "```from azure.mgmt.costmanagement import CostManagementClient\n",
    "from azure.identity import DefaultAzureCredential\n",
    "\n",
    "# Initialize the CostManagementClient\n",
    "credential = DefaultAzureCredential()\n",
    "cost_client = CostManagementClient(credential, subscription_id)\n",
    "\n",
    "# Get cost data for a particular period\n",
    "cost_data = cost_client.query.usage(\n",
    "    scope=\"/subscriptions/{subscription_id}\",\n",
    "    time_period={\"from\": \"2024-11-01\", \"to\": \"2024-11-12\"},\n",
    "    dataset={\"granularity\": \"Daily\"}\n",
    ")\n",
    "\n",
    "for entry in cost_data.value:\n",
    "    print(f\"Service: {entry['name']}, Cost: {entry['cost']}\")```"
   ]
  },
  {
   "cell_type": "markdown",
   "metadata": {},
   "source": [
    "# Asynchronous Calls"
   ]
  },
  {
   "cell_type": "code",
   "execution_count": null,
   "metadata": {},
   "outputs": [],
   "source": [
    "azure.ai.language.conversations.aio.ConversationAnalysisClient"
   ]
  },
  {
   "cell_type": "code",
   "execution_count": null,
   "metadata": {},
   "outputs": [],
   "source": [
    "import joblib\n",
    "\n",
    "joblib.dump(task_result,\"data/conv\")"
   ]
  },
  {
   "cell_type": "code",
   "execution_count": null,
   "metadata": {},
   "outputs": [],
   "source": [
    "import uuid\n",
    "\n",
    "unique_conversation_id = uuid.uuid1()\n",
    "str(unique_conversation_id)"
   ]
  }
 ],
 "metadata": {
  "kernelspec": {
   "display_name": "CW_Azure-services",
   "language": "python",
   "name": "python3"
  },
  "language_info": {
   "codemirror_mode": {
    "name": "ipython",
    "version": 3
   },
   "file_extension": ".py",
   "mimetype": "text/x-python",
   "name": "python",
   "nbconvert_exporter": "python",
   "pygments_lexer": "ipython3",
   "version": "3.12.7"
  }
 },
 "nbformat": 4,
 "nbformat_minor": 2
}
